{
  "nbformat": 4,
  "nbformat_minor": 0,
  "metadata": {
    "colab": {
      "provenance": [],
      "authorship_tag": "ABX9TyNHwsgyNrjKyJRRoFdFgWKv",
      "include_colab_link": true
    },
    "kernelspec": {
      "name": "python3",
      "display_name": "Python 3"
    },
    "language_info": {
      "name": "python"
    }
  },
  "cells": [
    {
      "cell_type": "markdown",
      "metadata": {
        "id": "view-in-github",
        "colab_type": "text"
      },
      "source": [
        "<a href=\"https://colab.research.google.com/github/faheemkhaskheli9/Python-Interview/blob/main/coding_interview_remove_island.ipynb\" target=\"_parent\"><img src=\"https://colab.research.google.com/assets/colab-badge.svg\" alt=\"Open In Colab\"/></a>"
      ]
    },
    {
      "cell_type": "code",
      "source": [
        "import numpy as np"
      ],
      "metadata": {
        "id": "NRcHTLa-LdYZ"
      },
      "execution_count": null,
      "outputs": []
    },
    {
      "cell_type": "code",
      "source": [
        "def is_border(matrix, x, y):\n",
        "    if x == 0 or y == 0 or x == (matrix.shape[0]-1) or y == (matrix.shape[1]-1):\n",
        "        return True\n",
        "    return False\n",
        "\n",
        "def in_matrix(matrix, x, y):\n",
        "    if x >= matrix.shape[0] or y >= matrix.shape[1]:\n",
        "        return True\n",
        "    if x < 0 or y < 0:\n",
        "        return True\n",
        "    return False\n",
        "\n",
        "def is_connected(matrix, x, y, new_matrix):\n",
        "    for new_x, new_y in [[x-1, y],\n",
        "                         [x+1, y],\n",
        "                         [x, y-1],\n",
        "                         [x, y+1]]:\n",
        "\n",
        "      if in_matrix(matrix, new_x, new_y):\n",
        "        continue\n",
        "\n",
        "      if matrix[new_x, new_y] == 1:\n",
        "        if new_matrix[new_x, new_y] == 0:\n",
        "          new_matrix[new_x, new_y] = 1\n",
        "          is_connected(matrix, new_x, new_y, new_matrix)\n",
        "\n",
        "def remove_island(matrix):\n",
        "    new_matrix = np.zeros(matrix.shape, dtype=\"uint8\")\n",
        "\n",
        "    for x in range(matrix.shape[0]):\n",
        "      for y in range(matrix.shape[1]):\n",
        "        if matrix[x, y] == 1 and is_border(matrix, x, y):\n",
        "            new_matrix[x, y] = 1\n",
        "            is_connected(matrix, x, y, new_matrix)\n",
        "\n",
        "    print(new_matrix)"
      ],
      "metadata": {
        "id": "amkxoq-lLgrO"
      },
      "execution_count": null,
      "outputs": []
    },
    {
      "cell_type": "code",
      "source": [
        "rows = 10\n",
        "cols = 10\n",
        "matrix = np.random.randint(0,2, (rows, cols))\n",
        "new_matrix = np.zeros(matrix.shape, dtype=\"int8\")\n",
        "\n",
        "print(matrix)\n",
        "print()\n",
        "\n",
        "remove_island(matrix)"
      ],
      "metadata": {
        "colab": {
          "base_uri": "https://localhost:8080/"
        },
        "id": "sRsCeZ_DOe4t",
        "outputId": "797195ef-f795-42e9-9182-c2be60fde772"
      },
      "execution_count": null,
      "outputs": [
        {
          "output_type": "stream",
          "name": "stdout",
          "text": [
            "[[1 1 0 0 1 0 0 1 1 0]\n",
            " [0 0 1 0 0 1 1 0 1 1]\n",
            " [1 0 0 1 0 0 1 1 0 0]\n",
            " [0 0 1 0 0 1 1 0 1 1]\n",
            " [0 0 1 0 0 0 0 0 0 1]\n",
            " [0 1 1 0 1 1 0 0 1 1]\n",
            " [1 1 1 0 1 1 1 0 0 1]\n",
            " [0 1 0 0 0 0 0 1 0 0]\n",
            " [1 1 0 1 0 0 0 1 1 1]\n",
            " [0 0 0 0 0 0 1 0 1 0]]\n",
            "\n",
            "[[1 1 0 0 1 0 0 1 1 0]\n",
            " [0 0 0 0 0 0 0 0 1 1]\n",
            " [1 0 0 0 0 0 0 0 0 0]\n",
            " [0 0 1 0 0 0 0 0 1 1]\n",
            " [0 0 1 0 0 0 0 0 0 1]\n",
            " [0 1 1 0 0 0 0 0 1 1]\n",
            " [1 1 1 0 0 0 0 0 0 1]\n",
            " [0 1 0 0 0 0 0 1 0 0]\n",
            " [1 1 0 0 0 0 0 1 1 1]\n",
            " [0 0 0 0 0 0 1 0 1 0]]\n"
          ]
        }
      ]
    },
    {
      "cell_type": "code",
      "source": [],
      "metadata": {
        "id": "qZpmO7wVOkzp"
      },
      "execution_count": null,
      "outputs": []
    }
  ]
}